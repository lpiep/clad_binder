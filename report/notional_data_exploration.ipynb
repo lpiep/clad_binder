{
  "cells": [
    {
      "cell_type": "raw",
      "metadata": {},
      "source": [
        "---\n",
        "title: Notional Data Exploration\n",
        "format: html\n",
        "editor: visual\n",
        "---"
      ],
      "id": "416c1c25"
    },
    {
      "cell_type": "markdown",
      "metadata": {},
      "source": [
        "```{r}\n",
        "#| include: FALSE\n",
        "\n",
        "setwd(here::here())\n",
        "library(sf)\n",
        "library(tidyverse)\n",
        "\n",
        "input <- readxl::read_excel('data/clad_omop_simulated_output_4.xlsx', 'address_list') %>% \n",
        "  arrange(id) %>%\n",
        "  mutate(address = str_replace_all(URLdecode(address), '\\\\+', ' '))\n",
        "output <- list(\n",
        "  postgis = readxl::read_excel('data/clad_omop_simulated_output_4.xlsx', sheet = 'postgis_responses') %>% arrange(id),\n",
        "    degauss = readxl::read_excel('data/clad_omop_simulated_output_4.xlsx', sheet = 'degauss_responses') %>% arrange(id),\n",
        "    nominatim = readxl::read_excel('data/clad_omop_simulated_output_4.xlsx', sheet = 'nominatim_responses') %>% arrange(id) \n",
        ")\n",
        "```\n",
        "\n",
        "\n",
        "## Notional Data \n",
        "\n",
        "### Input\n",
        "\n",
        "The input data set contains a variety of public place addresses with verified locations.\n",
        "\n",
        "\n",
        "```{r}\n",
        "head(input)\n",
        "```\n",
        "\n",
        "\n",
        "### Output\n",
        "\n",
        "Input data was geocoded with three different geocoders:\n",
        "\n",
        "#### Degauss\n",
        "\n",
        "\n",
        "```{r}\n",
        "\n",
        "head(output$degauss)\n",
        "```\n",
        "\n",
        "\n",
        "#### PostGIS\n",
        "\n",
        "\n",
        "```{r}\n",
        "head(output$postgis)\n",
        "```\n",
        "\n",
        "\n",
        "#### Nominatim\n",
        "\n",
        "\n",
        "```{r}\n",
        "head(output$nominatim)\n",
        "```"
      ],
      "id": "032b6bd8"
    }
  ],
  "metadata": {
    "kernelspec": {
      "display_name": "Python 3",
      "language": "python",
      "name": "python3"
    }
  },
  "nbformat": 4,
  "nbformat_minor": 5
}